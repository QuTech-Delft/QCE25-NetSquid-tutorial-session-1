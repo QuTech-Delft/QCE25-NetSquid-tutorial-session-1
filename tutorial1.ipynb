{
 "cells": [
  {
   "cell_type": "code",
   "execution_count": null,
   "id": "98262982-5e30-4f25-82e9-8d6eddada03f",
   "metadata": {},
   "outputs": [],
   "source": [
    "import netsquid as ns\n",
    "# Set qstate formalism to use density matrices.\n",
    "ns.set_qstate_formalism(ns.QFormalism.DM)"
   ]
  },
  {
   "cell_type": "markdown",
   "id": "ab5610bf-296b-4699-be32-77ea4be8c664",
   "metadata": {},
   "source": [
    "# Tutorial 1: Qubits"
   ]
  },
  {
   "cell_type": "markdown",
   "id": "e3af0a86-f3fd-48ca-a4e2-412b6d941c24",
   "metadata": {},
   "source": [
    "## Create qubits"
   ]
  },
  {
   "cell_type": "code",
   "execution_count": null,
   "id": "c5354658-ba55-48d1-bf03-17768ddf27cd",
   "metadata": {
    "scrolled": true
   },
   "outputs": [],
   "source": [
    "qubits = ns.qubits.create_qubits(2)\n",
    "q1, q2 = qubits\n",
    "\n",
    "ns.qubits.reduced_dm(q1)"
   ]
  },
  {
   "cell_type": "markdown",
   "id": "1e9bbf30-1de6-4224-8509-941d248d5bf1",
   "metadata": {},
   "source": [
    "## Put qubits in  |Φ⁺⟩ = (1/√2)(|00⟩ + |11⟩) state"
   ]
  },
  {
   "cell_type": "code",
   "execution_count": null,
   "id": "d037e8a8-e3d5-452c-b849-eed735a066b7",
   "metadata": {},
   "outputs": [],
   "source": [
    "ns.b00"
   ]
  },
  {
   "cell_type": "code",
   "execution_count": null,
   "id": "7b485683-48fb-494a-abda-9d8eedf4c5ba",
   "metadata": {},
   "outputs": [],
   "source": [
    "ns.qubits.assign_qstate(qubits, ns.b00)\n",
    "\n",
    "ns.qubits.reduced_dm(qubits)"
   ]
  },
  {
   "cell_type": "markdown",
   "id": "568ff5d5-bdb1-4aaa-980d-4f02f67e1392",
   "metadata": {},
   "source": [
    "## Measure qubits"
   ]
  },
  {
   "cell_type": "code",
   "execution_count": null,
   "id": "1c53abbb-8cd1-4c52-9d52-0ef4da357e12",
   "metadata": {},
   "outputs": [],
   "source": [
    "ns.qubits.assign_qstate(qubits, ns.b00)"
   ]
  },
  {
   "cell_type": "code",
   "execution_count": null,
   "id": "56d18e16-5161-4f78-8241-cf39b4ef66c4",
   "metadata": {},
   "outputs": [],
   "source": [
    "m, p = ns.qubits.measure(q1)\n",
    "m, p"
   ]
  },
  {
   "cell_type": "code",
   "execution_count": null,
   "id": "3ca90534-2a21-49b6-8f37-3b84a1efd2f3",
   "metadata": {},
   "outputs": [],
   "source": [
    "ns.qubits.reduced_dm(qubits)"
   ]
  },
  {
   "cell_type": "code",
   "execution_count": null,
   "id": "e08b62e3-5f41-440e-9eaa-e7fe64c99a41",
   "metadata": {},
   "outputs": [],
   "source": [
    "m, p = ns.qubits.measure(q2)\n",
    "m, p"
   ]
  },
  {
   "cell_type": "markdown",
   "id": "b178c4f7-9e91-4e3f-b443-8f77815b341e",
   "metadata": {},
   "source": [
    "## Operate on a qubit"
   ]
  },
  {
   "cell_type": "code",
   "execution_count": null,
   "id": "d432f10f-f6c6-41d4-b128-e3f1e10aac3c",
   "metadata": {},
   "outputs": [],
   "source": [
    "q, = ns.qubits.create_qubits(1)\n",
    "\n",
    "ns.qubits.reduced_dm(q)"
   ]
  },
  {
   "cell_type": "code",
   "execution_count": null,
   "id": "bebd7d50-bb3d-446c-93ba-1d9ff8b42bef",
   "metadata": {},
   "outputs": [],
   "source": [
    "ns.qubits.operate(q, ns.X)\n",
    "\n",
    "ns.qubits.reduced_dm(q)"
   ]
  },
  {
   "cell_type": "markdown",
   "id": "146978ef-24e4-471d-a9ce-b28cf1b13746",
   "metadata": {},
   "source": [
    "## Multi qubit operators"
   ]
  },
  {
   "cell_type": "code",
   "execution_count": null,
   "id": "2aa1372d-6fdc-43df-95b5-c5df9aabddf8",
   "metadata": {},
   "outputs": [],
   "source": [
    "q1, q2 = ns.qubits.create_qubits(2)\n",
    "\n",
    "ns.qubits.operate(q1, ns.X)\n",
    "\n",
    "ns.qubits.reduced_dm([q1,q2])"
   ]
  },
  {
   "cell_type": "code",
   "execution_count": null,
   "id": "6f8fd6cd-461f-4596-ba51-e14f97400f22",
   "metadata": {},
   "outputs": [],
   "source": [
    "ns.qubits.operate([q1, q2], ns.CX)\n",
    "\n",
    "ns.qubits.reduced_dm([q1,q2])"
   ]
  },
  {
   "cell_type": "markdown",
   "id": "168507c3-61d7-4d51-9f95-febc314a1a45",
   "metadata": {},
   "source": [
    "## Operators included in Netsquid"
   ]
  },
  {
   "cell_type": "code",
   "execution_count": null,
   "id": "9c7d35bf-66cf-453d-a9ab-e78c833c91e8",
   "metadata": {},
   "outputs": [],
   "source": [
    "# Identity\n",
    "ns.I\n",
    "\n",
    "# Pauli matrices\n",
    "ns.X\n",
    "ns.Y\n",
    "ns.Z\n",
    "\n",
    "# Common single qubit\n",
    "ns.H\n",
    "ns.K\n",
    "ns.S\n",
    "ns.T\n",
    "\n",
    "# Multi qubit\n",
    "ns.CX\n",
    "ns.CCX\n",
    "ns.CZ\n",
    "ns.CS\n",
    "ns.SWAP"
   ]
  },
  {
   "cell_type": "markdown",
   "id": "0567df13-6a2b-41ee-ab05-def0a6a3354d",
   "metadata": {},
   "source": [
    "## QFormalisms"
   ]
  },
  {
   "cell_type": "markdown",
   "id": "a7e10e2a-8631-434a-8f88-46ed903a8508",
   "metadata": {},
   "source": [
    "### DM\n",
    "Store the quantum state in the density matrix ρ = |ψ⟩⟨ψ| using a dense matrix.\n",
    "\n",
    "### SPARSEDM\n",
    "Store the quantum state in the density matrix ρ = |ψ⟩⟨ψ| using a sparse matrix.\n",
    "\n",
    "### KET\n",
    "Store the quantum state in a vector |ψ⟩.\n",
    "\n",
    "### STAB\n",
    "Stabilizer tableau, represent states with generators that stabilize the state |ψ⟩. A generator A stabilizes |ψ⟩ if A|ψ⟩ = |ψ⟩. \n",
    "### GSLC\n",
    "Graph states with local Cliffords, this represents states by a set of edges E and a list of n single qubit Cliffords C."
   ]
  },
  {
   "cell_type": "markdown",
   "id": "7e1e4c18-f5f5-4cc1-8489-a50593368e7a",
   "metadata": {},
   "source": [
    "![title](img/QFormalisms_table.png) "
   ]
  },
  {
   "cell_type": "markdown",
   "id": "63b9ffc6-e30c-4452-8090-f1994a712f90",
   "metadata": {},
   "source": [
    "[Next tutorial](tutorial2.ipynb)"
   ]
  }
 ],
 "metadata": {
  "kernelspec": {
   "display_name": "Python 3 (ipykernel)",
   "language": "python",
   "name": "python3"
  },
  "language_info": {
   "codemirror_mode": {
    "name": "ipython",
    "version": 3
   },
   "file_extension": ".py",
   "mimetype": "text/x-python",
   "name": "python",
   "nbconvert_exporter": "python",
   "pygments_lexer": "ipython3",
   "version": "3.10.12"
  }
 },
 "nbformat": 4,
 "nbformat_minor": 5
}
