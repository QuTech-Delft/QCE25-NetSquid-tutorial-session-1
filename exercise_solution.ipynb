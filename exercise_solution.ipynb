{
 "cells": [
  {
   "cell_type": "code",
   "execution_count": null,
   "id": "82452ee4-65b7-4964-928e-fb314c510628",
   "metadata": {},
   "outputs": [],
   "source": [
    "import netsquid as ns\n",
    "# Set qstate formalism to use density matrices.\n",
    "ns.set_qstate_formalism(ns.QFormalism.DM)"
   ]
  },
  {
   "cell_type": "markdown",
   "id": "646e8072-c5e0-4ae0-9cc8-d3be0e28f971",
   "metadata": {},
   "source": [
    "# Exercise solution\n"
   ]
  },
  {
   "cell_type": "markdown",
   "id": "82cd8264-32cc-4366-89f7-27c964812cc5",
   "metadata": {},
   "source": [
    "## Network setup"
   ]
  },
  {
   "cell_type": "code",
   "execution_count": null,
   "id": "df82e936-0894-4cb4-a173-aad1ceee8f52",
   "metadata": {},
   "outputs": [],
   "source": [
    "from netsquid.nodes import Node\n",
    "from netsquid.components import Port, QuantumChannel\n",
    "from netsquid.nodes import DirectConnection\n",
    "from netsquid.components.models import FixedDelayModel, DepolarNoiseModel, DephaseNoiseModel\n",
    "\n",
    "# Create Node objects\n",
    "alice_node = Node(\"Alice\")\n",
    "bob_node   = Node(\"Bob\")\n",
    "\n",
    "# Create Port objects\n",
    "alice_port = Port(\"Alice_port\", alice_node)\n",
    "bob_port   = Port(\"Bob_port\",   bob_node)\n",
    "\n",
    "# Create delay and noise models\n",
    "delay_model = FixedDelayModel(delay=10.)\n",
    "qerror_model = DephaseNoiseModel(dephase_rate=0.20, time_independent=True)\n",
    "\n",
    "# Create channels and connection between Alice and Bob\n",
    "channel_a_to_b = QuantumChannel(\"Channel Alice to Bob\",\n",
    "                                  models={\"delay_model\": delay_model,\n",
    "                                          \"quantum_noise_model\": qerror_model}\n",
    "                                )\n",
    "\n",
    "channel_b_to_a = QuantumChannel(\"Channel Bob to Alice\",\n",
    "                                  models={\"delay_model\": delay_model,\n",
    "                                          \"quantum_noise_model\": qerror_model}\n",
    "                                  )\n",
    "\n",
    "connection = DirectConnection(name=\"connection\",\n",
    "                              channel_AtoB=channel_a_to_b,\n",
    "                              channel_BtoA=channel_b_to_a)\n",
    "\n",
    "\n",
    "# Connect Alice with Bob using the newly created connection and ports\n",
    "alice_node.connect_to(remote_node=bob_node, connection=connection,\n",
    "                     local_port_name=\"Alice_port\", remote_port_name=\"Bob_port\")"
   ]
  },
  {
   "cell_type": "markdown",
   "id": "a1c9b114-6169-4d5c-9adc-04fe6143388a",
   "metadata": {},
   "source": [
    "## Protocols"
   ]
  },
  {
   "cell_type": "code",
   "execution_count": null,
   "id": "2fcf8b0f-f61d-4348-89b4-48118e460803",
   "metadata": {},
   "outputs": [],
   "source": [
    "from netsquid.protocols import NodeProtocol\n",
    "\n",
    "# Create protocol classes for Alice and Bob nodes\n",
    "class AliceProtocol(NodeProtocol):\n",
    "    def run(self):\n",
    "        port = self.node.ports[\"Alice_port\"]\n",
    "\n",
    "        # Create qubits q1 and q2 in the ground state\n",
    "        q1, q2 = ns.qubits.create_qubits(2)\n",
    "\n",
    "        # Entangle q1 and q2 to the Phi+ bell state \n",
    "        ns.qubits.operate(q1, ns.H)\n",
    "        ns.qubits.operate([q1, q2], ns.CX)\n",
    "\n",
    "        # Send qubit q2 to Bob\n",
    "        port.tx_output(q2)\n",
    "        print(f\"{ns.sim_time()} ns Alice send q2\")\n",
    "\n",
    "        # Wait 30 ns\n",
    "        yield self.await_timer(30)\n",
    "\n",
    "        # Measure qubit q1\n",
    "        m, _ = ns.qubits.measure(q1)\n",
    "        print(f\"{ns.sim_time()} ns Alice measures q1: {m}\")\n",
    "\n",
    "\n",
    "class BobProtocol(NodeProtocol):\n",
    "    def run(self):\n",
    "        port = self.node.ports[\"Bob_port\"]\n",
    "\n",
    "        # Wait for the message with qubit, q2, from Alice to arrive\n",
    "        yield self.await_port_input(port)\n",
    "        q2 = port.rx_input().items[0]\n",
    "\n",
    "        # Obtain full density matrix\n",
    "        # q2.qstate.qubits will return a list of all qubits that are part of the quantum state\n",
    "        dm = ns.qubits.reduced_dm(q2.qstate.qubits)\n",
    "        print(f\"{ns.sim_time()} ns Bob receives q2, DM=\\n{dm}\")\n",
    "\n",
    "        # Measure qubit q2\n",
    "        m, _ = ns.qubits.measure(q2)\n",
    "        print(f\"{ns.sim_time()} ns Bob measures q2: {m}\")\n",
    "\n",
    "# Create protocol instances with reference to the node the protocol will run on\n",
    "alice_protocol = AliceProtocol(node=alice_node)\n",
    "bob_protocol = BobProtocol(node=bob_node)"
   ]
  },
  {
   "cell_type": "markdown",
   "id": "c3fd9925-4023-4285-845b-982fa790eeee",
   "metadata": {},
   "source": [
    "## Run simulation"
   ]
  },
  {
   "cell_type": "code",
   "execution_count": null,
   "id": "44680a76-0f03-4096-9297-96c08d7d4e22",
   "metadata": {},
   "outputs": [],
   "source": [
    "# Start all protocols\n",
    "alice_protocol.start()\n",
    "bob_protocol.start()\n",
    "\n",
    "# Run simulation\n",
    "sim_stats = ns.sim_run()\n",
    "\n",
    "# Show simulation statistics\n",
    "print(sim_stats)\n",
    "\n",
    "# Reset simulation\n",
    "alice_protocol.stop()\n",
    "bob_protocol.stop()\n",
    "\n",
    "# Reset the simulation: clear scheduled events, entities and event handlers & Reset simulation time to 0\n",
    "ns.sim_reset()"
   ]
  },
  {
   "cell_type": "markdown",
   "id": "e7ead431-f395-4429-8154-b48eb1448cf0",
   "metadata": {},
   "source": [
    "## Optional exercise solution"
   ]
  },
  {
   "cell_type": "markdown",
   "id": "21cda203-78bf-4fe9-80a6-ce84d560881b",
   "metadata": {},
   "source": [
    "## Protocols"
   ]
  },
  {
   "cell_type": "code",
   "execution_count": null,
   "id": "b2d3930c-9087-4aeb-855f-d3546a1e2f6f",
   "metadata": {},
   "outputs": [],
   "source": [
    "from netsquid.protocols import NodeProtocol\n",
    "\n",
    "# Create protocol classes for Alice and Bob nodes\n",
    "class AliceProtocol(NodeProtocol):\n",
    "    def run(self):\n",
    "        port = self.node.ports[\"Alice_port\"]\n",
    "\n",
    "        # Create qubits q1 and q2 in the ground state\n",
    "        q1, q2 = ns.qubits.create_qubits(2)\n",
    "\n",
    "        # Entangle q1 and q2 to the Phi+ bell state \n",
    "        ns.qubits.operate(q1, ns.H)\n",
    "        ns.qubits.operate([q1, q2], ns.CX)\n",
    "\n",
    "        # Send qubit q2 to Bob\n",
    "        port.tx_output(q2)\n",
    "        print(f\"{ns.sim_time()} ns Alice send q2\")\n",
    "\n",
    "        # Wait for the message with returned qubit, q2, from Bob to arrive\n",
    "        yield self.await_port_input(port)\n",
    "        q2 = port.rx_input().items[0]\n",
    "        print(f\"{ns.sim_time()} ns Alice received q2, \\nDM:\\n{ns.qubits.reduced_dm([q1, q2])}\")\n",
    "\n",
    "        # measure qubits q1 and q2\n",
    "        m1, _ = ns.qubits.measure(q1)\n",
    "        m2, _ = ns.qubits.measure(q2)\n",
    "        print(f\"{ns.sim_time()} ns Alice measures q1: {m1} and q2: {m2}\")\n",
    "\n",
    "        # Check if measurements are equal to recover the secret bit value\n",
    "        if m1 == m2:\n",
    "            print(\"Alice concludes secret bit is 0\")\n",
    "        else:\n",
    "            print(\"Alice concludes secret bit is 1\")\n",
    "\n",
    "\n",
    "\n",
    "class BobProtocol(NodeProtocol):\n",
    "    # override __init__ to add ability to set the secret bit as an instance attribute\n",
    "    def __init__(self, node, secret_bit: bool):\n",
    "        super().__init__(node)\n",
    "        self.secret_bit = secret_bit\n",
    "    \n",
    "    def run(self):\n",
    "        port = self.node.ports[\"Bob_port\"]\n",
    "\n",
    "        # Wait for the message with qubit, q2, from Alice to arrive\n",
    "        yield self.await_port_input(port)\n",
    "        q2 = port.rx_input().items[0]\n",
    "        print(f\"{ns.sim_time()} ns Bob receives q2\")\n",
    "\n",
    "        # Conditional on secret bit value, apply the X gate on q2\n",
    "        if self.secret_bit == 1:\n",
    "            ns.qubits.operate(q2, ns.X)\n",
    "\n",
    "        # Send qubit q2 back to Alice\n",
    "        port.tx_output(q2)\n"
   ]
  },
  {
   "cell_type": "markdown",
   "id": "020f7d90-175c-43a8-8b7b-18bb4a707d72",
   "metadata": {},
   "source": [
    "## Run simulation"
   ]
  },
  {
   "cell_type": "code",
   "execution_count": null,
   "id": "e7adcf65-1008-4368-a4ed-19085405ecf9",
   "metadata": {},
   "outputs": [],
   "source": [
    "# Reset simulation\n",
    "ns.sim_reset()\n",
    "\n",
    "# Choose secret bit value\n",
    "secret_bit = 1\n",
    "\n",
    "# Create protocol instances\n",
    "alice_protocol = AliceProtocol(node=alice_node)\n",
    "bob_protocol = BobProtocol(node=bob_node, secret_bit=secret_bit)\n",
    "\n",
    "# Start all protocols\n",
    "alice_protocol.start()\n",
    "bob_protocol.start()\n",
    "\n",
    "# Run simulation\n",
    "sim_stats = ns.sim_run()\n",
    "\n",
    "# Show simulation statistics\n",
    "print(sim_stats)\n",
    "\n",
    "# Stop protocols\n",
    "alice_protocol.stop()\n",
    "bob_protocol.stop()"
   ]
  }
 ],
 "metadata": {
  "kernelspec": {
   "display_name": "Python 3 (ipykernel)",
   "language": "python",
   "name": "python3"
  },
  "language_info": {
   "codemirror_mode": {
    "name": "ipython",
    "version": 3
   },
   "file_extension": ".py",
   "mimetype": "text/x-python",
   "name": "python",
   "nbconvert_exporter": "python",
   "pygments_lexer": "ipython3",
   "version": "3.10.12"
  }
 },
 "nbformat": 4,
 "nbformat_minor": 5
}
