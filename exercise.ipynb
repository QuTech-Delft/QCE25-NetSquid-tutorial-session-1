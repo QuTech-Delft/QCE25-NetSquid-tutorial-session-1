{
 "cells": [
  {
   "cell_type": "code",
   "execution_count": null,
   "id": "f2da9882-89dd-4e90-91cf-11e8f4f5481f",
   "metadata": {},
   "outputs": [],
   "source": [
    "import netsquid as ns\n",
    "# Set qstate formalism to use density matrices.\n",
    "ns.set_qstate_formalism(ns.QFormalism.DM)"
   ]
  },
  {
   "cell_type": "markdown",
   "id": "d3f8823b-10cc-485b-ac90-115d984eed56",
   "metadata": {},
   "source": [
    "# Exercise 1: Quantum Entanglement and Communication Protocol\n",
    "**Starting Point:** Tutorial 3 example code\n",
    "\n",
    "## Verify Notebook\n",
    "Run the simulation in this notebook to ensure your notebook environment is configured correctly.\n",
    "Run the simulation 5-10 times, do Alice and Bob always measure the same result?\n",
    "\n",
    "## Change Noise Model\n",
    "Replace the current quantum noise model for the quantumchannels with a `DephaseNoiseModel`.\n",
    "Run the simulation again and note the difference in density matrix.\n",
    "Can Alice and Bob measure different results on their qubits with this noise model?\n",
    "\n",
    "## Create Entanglement Using Quantum Gates\n",
    "Create entanglment between qubits q1 and q2 by applying quantum operators instead of directly assiging a quantum state.\n",
    "**Current approach to remove:**\n",
    "```python\n",
    "ns.qubits.assign_qstate([q1, q2], ns.b00)\n",
    "```\n",
    "**New approach to implement:**\n",
    "- Create the Bell state |Φ⁺⟩ = (1/√2)(|00⟩ + |11⟩) using quantum operators\n",
    "- Apply the following gate sequence:\n",
    " 1. Apply Hadamard gate (H) to the first qubit (q1)\n",
    " 2. Apply CNOT gate with q1 as control and q2 as target\n",
    "**Quantum Circuit:**\n",
    "```\n",
    "q1: ──H──●──\n",
    "         │\n",
    "q2: ─────X──\n",
    "```\n",
    "   \n",
    "## (Optional) Secret Bit Communication Protocol\n",
    "**Objective:** Enable Bob to securely send a secret bit (0 or 1) to Alice using quantum entanglement.\n",
    "**Protocol Steps:**\n",
    "a) **Entanglement Distribution**\n",
    "  - Alice creates two entangled qubits\n",
    "  - Alice keeps one qubit and sends the other to Bob\n",
    "  - (This step is already present in the protocol and requires no change to be made)\n",
    "b) **Bob's Secret Encoding**\n",
    "  - Bob receives Alice's qubit\n",
    "  - If his secret bit is **1**: Bob applies an X gate to the received qubit\n",
    "  - If his secret bit is **0**: Bob does nothing to the qubit\n",
    "  - Bob sends the qubit back to Alice\n",
    "c) **Alice's Decoding**\n",
    "  - Alice receives Bob's qubit\n",
    "  - Alice measures both qubits (her original qubit and the returned qubit)\n",
    "  - **Decoding rule:**\n",
    "    - If measurement results are **equal** → secret bit = **0**\n",
    "    - If measurement results are **different** → secret bit = **1**\n",
    "\n",
    "### Timeline diagram\n",
    "![title](img/exercise1_timeline.drawio.png)"
   ]
  },
  {
   "cell_type": "markdown",
   "id": "e8ac0a8e-e5cf-43a8-8995-efaa4ac99ef1",
   "metadata": {},
   "source": [
    "# Exercise starting point:"
   ]
  },
  {
   "cell_type": "markdown",
   "id": "95950325-8c7a-45dc-ae1d-6492e65d8bb1",
   "metadata": {},
   "source": [
    "## Network setup"
   ]
  },
  {
   "cell_type": "code",
   "execution_count": null,
   "id": "07f1893d-19d3-442b-9f8e-9690aac10156",
   "metadata": {},
   "outputs": [],
   "source": [
    "from netsquid.nodes import Node\n",
    "from netsquid.components import Port, QuantumChannel\n",
    "from netsquid.nodes import DirectConnection\n",
    "from netsquid.components.models import FixedDelayModel, DepolarNoiseModel\n",
    "\n",
    "alice_node = Node(\"Alice\")\n",
    "bob_node   = Node(\"Bob\")\n",
    "\n",
    "alice_port = Port(\"Alice_port\", alice_node)\n",
    "bob_port   = Port(\"Bob_port\",   bob_node)\n",
    "\n",
    "delay_model = FixedDelayModel(delay=10.)\n",
    "error_model = DepolarNoiseModel(depolar_rate=0.2, time_independent=True)\n",
    "\n",
    "channel_a_to_b = QuantumChannel(\"Channel Alice to Bob\",\n",
    "                                  models={\"delay_model\": delay_model,\n",
    "                                          \"quantum_noise_model\": error_model}\n",
    "                                  )\n",
    "\n",
    "channel_b_to_a = QuantumChannel(\"Channel Bob to Alice\",\n",
    "                                  models={\"delay_model\": delay_model,\n",
    "                                          \"quantum_noise_model\": error_model}\n",
    "                                  )\n",
    "\n",
    "\n",
    "connection = DirectConnection(name=\"connection\",\n",
    "                              channel_AtoB=channel_a_to_b,\n",
    "                              channel_BtoA=channel_b_to_a)\n",
    "\n",
    "\n",
    "alice_node.connect_to(remote_node=bob_node, connection=connection,\n",
    "                     local_port_name=\"Alice_port\", remote_port_name=\"Bob_port\")"
   ]
  },
  {
   "cell_type": "markdown",
   "id": "ae0a9622-26d8-4dbf-98f1-a0636de56c16",
   "metadata": {},
   "source": [
    "## Protocols"
   ]
  },
  {
   "cell_type": "code",
   "execution_count": null,
   "id": "1234b7ad-a9c2-41e5-9157-36bdb20481c6",
   "metadata": {},
   "outputs": [],
   "source": [
    "from netsquid.protocols import NodeProtocol\n",
    "\n",
    "class AliceProtocol(NodeProtocol):\n",
    "    def run(self):\n",
    "        port = self.node.ports[\"Alice_port\"]\n",
    "\n",
    "        q1, q2 = ns.qubits.create_qubits(2)\n",
    "        \n",
    "        ns.qubits.assign_qstate([q1, q2], ns.b00)\n",
    "        \n",
    "        port.tx_output(q2)\n",
    "        print(f\"{ns.sim_time()} ns Alice send q2\")\n",
    "\n",
    "        # Wait 30 ns\n",
    "        yield self.await_timer(30)\n",
    "\n",
    "        m, _ = ns.qubits.measure(q1)\n",
    "\n",
    "        print(f\"{ns.sim_time()} ns Alice measures q1: {m}\")\n",
    "\n",
    "\n",
    "\n",
    "class BobProtocol(NodeProtocol):\n",
    "    def run(self):\n",
    "        port = self.node.ports[\"Bob_port\"]\n",
    "\n",
    "        yield self.await_port_input(port)\n",
    "        \n",
    "        q2 = port.rx_input().items[0]\n",
    "\n",
    "        dm = ns.qubits.reduced_dm(q2.qstate.qubits)\n",
    "        print(f\"{ns.sim_time()} ns Bob receives q2, DM=\\n{dm}\")\n",
    "\n",
    "        m, _ = ns.qubits.measure(q2)\n",
    "\n",
    "        print(f\"{ns.sim_time()} ns Bob measures q2: {m}\")\n",
    "\n",
    "alice_protocol = AliceProtocol(node=alice_node)\n",
    "bob_protocol = BobProtocol(node=bob_node)"
   ]
  },
  {
   "cell_type": "markdown",
   "id": "9dea6bcb-ffda-48e8-a66e-3e0a26d4797f",
   "metadata": {},
   "source": [
    "## Run simulation"
   ]
  },
  {
   "cell_type": "code",
   "execution_count": null,
   "id": "b2c0c2d5-4f8c-4fb6-95e2-c7230bac6423",
   "metadata": {},
   "outputs": [],
   "source": [
    "# Start all protocols\n",
    "alice_protocol.start()\n",
    "bob_protocol.start()\n",
    "\n",
    "sim_stats = ns.sim_run()\n",
    "\n",
    "print(sim_stats)\n",
    "\n",
    "# Reset simulation\n",
    "alice_protocol.stop()\n",
    "bob_protocol.stop()\n",
    "\n",
    "ns.sim_reset()"
   ]
  },
  {
   "cell_type": "code",
   "execution_count": null,
   "id": "85220f7f-0beb-41ed-83b8-e3362c892c68",
   "metadata": {},
   "outputs": [],
   "source": []
  }
 ],
 "metadata": {
  "kernelspec": {
   "display_name": "Python 3 (ipykernel)",
   "language": "python",
   "name": "python3"
  },
  "language_info": {
   "codemirror_mode": {
    "name": "ipython",
    "version": 3
   },
   "file_extension": ".py",
   "mimetype": "text/x-python",
   "name": "python",
   "nbconvert_exporter": "python",
   "pygments_lexer": "ipython3",
   "version": "3.10.12"
  }
 },
 "nbformat": 4,
 "nbformat_minor": 5
}
