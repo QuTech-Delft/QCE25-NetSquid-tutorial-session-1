{
 "cells": [
  {
   "cell_type": "code",
   "execution_count": null,
   "id": "a0feefe9-e920-4bbd-a747-a2e446463200",
   "metadata": {},
   "outputs": [],
   "source": [
    "import netsquid as ns\n",
    "# Set qstate formalism to use density matrices.\n",
    "ns.set_qstate_formalism(ns.QFormalism.DM)"
   ]
  },
  {
   "cell_type": "markdown",
   "id": "81a3f538-de9f-4bea-a72f-c84529d5e521",
   "metadata": {},
   "source": [
    "# Tutorial 3: Quantum network example"
   ]
  },
  {
   "cell_type": "markdown",
   "id": "963306aa-c339-44ff-8629-e3f6bdbbfbe6",
   "metadata": {},
   "source": [
    "## Network setup"
   ]
  },
  {
   "cell_type": "code",
   "execution_count": null,
   "id": "b9255599-5596-4c1b-9a4d-8db7056f3710",
   "metadata": {},
   "outputs": [],
   "source": [
    "from netsquid.nodes import Node\n",
    "from netsquid.components import Port, QuantumChannel\n",
    "from netsquid.nodes import DirectConnection\n",
    "from netsquid.components.models import FixedDelayModel, DepolarNoiseModel\n",
    "\n",
    "alice_node = Node(\"Alice\")\n",
    "bob_node   = Node(\"Bob\")\n",
    "\n",
    "delay_model = FixedDelayModel(delay=10.)\n",
    "qerror_model = DepolarNoiseModel(depolar_rate=0.2, time_independent=True)\n",
    "\n",
    "channel_a_to_b = QuantumChannel(\"Channel Alice to Bob\",\n",
    "                                  models={\"delay_model\": delay_model,\n",
    "                                          \"quantum_noise_model\": qerror_model}\n",
    "                                  )\n",
    "\n",
    "channel_b_to_a = QuantumChannel(\"Channel Bob to Alice\",\n",
    "                                  models={\"delay_model\": delay_model,\n",
    "                                          \"quantum_noise_model\": qerror_model}\n",
    "                                  )\n",
    "\n",
    "\n",
    "connection = DirectConnection(name=\"connection\",\n",
    "                              channel_AtoB=channel_a_to_b,\n",
    "                              channel_BtoA=channel_b_to_a)\n",
    "\n",
    "alice_port = Port(\"Alice_port\", alice_node)\n",
    "bob_port   = Port(\"Bob_port\",   bob_node)\n",
    "\n",
    "alice_node.connect_to(remote_node=bob_node, connection=connection,\n",
    "                     local_port_name=\"Alice_port\", remote_port_name=\"Bob_port\")"
   ]
  },
  {
   "cell_type": "markdown",
   "id": "bf15c3cb-db8e-4f11-9457-cd72041d21d2",
   "metadata": {},
   "source": [
    "### Component diagram\n",
    "![title](img/network_components_diagram.drawio.png)"
   ]
  },
  {
   "cell_type": "markdown",
   "id": "79e0ee30-32fd-4177-9108-077ad1c91936",
   "metadata": {},
   "source": [
    "## Protocols"
   ]
  },
  {
   "cell_type": "code",
   "execution_count": null,
   "id": "ab8f3c8d-ef49-40fb-8309-8276ef581c77",
   "metadata": {},
   "outputs": [],
   "source": [
    "from netsquid.protocols import NodeProtocol\n",
    "\n",
    "class AliceProtocol(NodeProtocol):\n",
    "    def run(self):\n",
    "        port = self.node.ports[\"Alice_port\"]\n",
    "\n",
    "        q1, q2 = ns.qubits.create_qubits(2)\n",
    "        \n",
    "        ns.qubits.assign_qstate([q1, q2], ns.b00)\n",
    "        \n",
    "        port.tx_output(q2)\n",
    "        print(f\"{ns.sim_time()} ns Alice send q2\")\n",
    "\n",
    "        # Wait 30 ns\n",
    "        yield self.await_timer(30)\n",
    "\n",
    "        m, _ = ns.qubits.measure(q1)\n",
    "\n",
    "        print(f\"{ns.sim_time()} ns Alice measures q1: {m}\")\n",
    "\n",
    "\n",
    "\n",
    "class BobProtocol(NodeProtocol):\n",
    "    def run(self):\n",
    "        port = self.node.ports[\"Bob_port\"]\n",
    "\n",
    "        yield self.await_port_input(port)\n",
    "        \n",
    "        q2 = port.rx_input().items[0]\n",
    "\n",
    "        dm = ns.qubits.reduced_dm(q2.qstate.qubits)\n",
    "        print(f\"{ns.sim_time()} ns Bob receives q2, DM=\\n{dm}\")\n",
    "\n",
    "        m, _ = ns.qubits.measure(q2)\n",
    "\n",
    "        print(f\"{ns.sim_time()} ns Bob measures q2: {m}\")\n",
    "\n",
    "alice_protocol = AliceProtocol(node=alice_node)\n",
    "bob_protocol = BobProtocol(node=bob_node)"
   ]
  },
  {
   "cell_type": "markdown",
   "id": "181f0f32-665e-4769-963b-06ccca024053",
   "metadata": {},
   "source": [
    "## Timeline diagram\n",
    "![title](img/tutorial3_timeline.drawio.png)"
   ]
  },
  {
   "cell_type": "markdown",
   "id": "49c6f25f-34fc-4c8a-8024-b4a606f966b0",
   "metadata": {},
   "source": [
    "## Run simulation"
   ]
  },
  {
   "cell_type": "code",
   "execution_count": null,
   "id": "40138d11-5405-4660-96ed-fa13270cd49c",
   "metadata": {},
   "outputs": [],
   "source": [
    "# Start all protocols\n",
    "alice_protocol.start()\n",
    "bob_protocol.start()\n",
    "\n",
    "sim_stats = ns.sim_run()\n",
    "\n",
    "print(sim_stats)\n",
    "\n",
    "# Reset simulation\n",
    "alice_protocol.stop()\n",
    "bob_protocol.stop()\n",
    "\n",
    "ns.sim_reset()"
   ]
  },
  {
   "cell_type": "markdown",
   "id": "4a024c44-0463-416f-8aa3-e2b0e9503067",
   "metadata": {},
   "source": [
    "# Quantum error models"
   ]
  },
  {
   "cell_type": "code",
   "execution_count": null,
   "id": "5d2c6c92-15b2-48e0-9c6f-1ed046f1d3db",
   "metadata": {},
   "outputs": [],
   "source": [
    "from netsquid.components.models import DepolarNoiseModel, DephaseNoiseModel, T1T2NoiseModel, FibreLossModel\n",
    "\n",
    "# Apply depolarising noise to qubits with 20% chance\n",
    "depolar_noise_model = DepolarNoiseModel(depolar_rate=0.2, time_independent=True)\n",
    "\n",
    "# Apply dephasing noise to qubits with 20% chance\n",
    "dephase_noise_model = DephaseNoiseModel(dephase_rate=0.2, time_independent=True)\n",
    "# If time_independent is True, both noise models will have a fixed probability of noise, with p=rate\n",
    "# If time_independent is False. The noise will be modelded p = e^{-T/rate}, where rate is in Hz. \n",
    "\n",
    "# Phenomenological noise model. T1 time dicates amplitude dampening component, T2 dictates dephasing component\n",
    "t1_t2_noise_model = T1T2NoiseModel(T1=100, T2=20)\n",
    "\n",
    "\n",
    "# Exponential photon loss model, probability that qubit object does not arrive at destination\n",
    "# 20% Fixed loss probability and 0.25dB/km \n",
    "fibre_loss_model = FibreLossModel(p_loss_init=0.2, p_loss_length=0.25)\n",
    "\n",
    "# Transmission success probability = 0.8 * 10^(-0.25dB/km * 15km / 10dB) ~ 0.45\n",
    "length = 15\n",
    "channel_a_to_b = QuantumChannel(\"Channel Alice to Bob\",\n",
    "                                models={\"quantum_loss_model\": fibre_loss_model},\n",
    "                                length=length\n",
    "                                )\n"
   ]
  },
  {
   "cell_type": "markdown",
   "id": "ad1e44cf-5af6-4527-a45f-fdffd46073cd",
   "metadata": {},
   "source": [
    "Next: [Exercise](exercise.ipynb)"
   ]
  }
 ],
 "metadata": {
  "kernelspec": {
   "display_name": "Python 3 (ipykernel)",
   "language": "python",
   "name": "python3"
  },
  "language_info": {
   "codemirror_mode": {
    "name": "ipython",
    "version": 3
   },
   "file_extension": ".py",
   "mimetype": "text/x-python",
   "name": "python",
   "nbconvert_exporter": "python",
   "pygments_lexer": "ipython3",
   "version": "3.10.12"
  }
 },
 "nbformat": 4,
 "nbformat_minor": 5
}
