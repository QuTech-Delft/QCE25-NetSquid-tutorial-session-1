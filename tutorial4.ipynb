{
 "cells": [
  {
   "cell_type": "code",
   "execution_count": null,
   "id": "eada8d37-4944-4691-aa18-1ac91e7f7f69",
   "metadata": {},
   "outputs": [],
   "source": [
    "import netsquid as ns\n",
    "# Set qstate formalism to use density matrices.\n",
    "ns.set_qstate_formalism(ns.QFormalism.DM)"
   ]
  },
  {
   "cell_type": "markdown",
   "id": "5bf41e5d-356e-4813-aab7-827ad1d3d769",
   "metadata": {},
   "source": [
    "# Tutorial 4: Quantum devices\n",
    "## Quantum Memory"
   ]
  },
  {
   "cell_type": "code",
   "execution_count": null,
   "id": "3eef452f-bdf3-41a3-85e8-aae970422583",
   "metadata": {},
   "outputs": [],
   "source": [
    "from netsquid.components import QuantumMemory\n",
    "from netsquid.components.models import DepolarNoiseModel\n",
    "\n",
    "# Depolarization rate = 1e8 Hz = 1/(10 ns)\n",
    "qerror_model = DepolarNoiseModel(depolar_rate=1e8)\n",
    "\n",
    "qmem = QuantumMemory(\"Tutorial memory\", \n",
    "                     num_positions=10,\n",
    "                     memory_noise_models=qerror_model)"
   ]
  },
  {
   "cell_type": "code",
   "execution_count": null,
   "id": "63b24145-6be1-43c3-be94-ddc491c40b44",
   "metadata": {},
   "outputs": [],
   "source": [
    "qubit, = ns.qubits.create_qubits(1)\n",
    "\n",
    "ns.qubits.reduced_dm([qubit])"
   ]
  },
  {
   "cell_type": "code",
   "execution_count": null,
   "id": "a8015abd-d8b9-436f-89d5-f6f9d791fd7f",
   "metadata": {},
   "outputs": [],
   "source": [
    "qmem.put(qubit, positions=2)\n",
    "\n",
    "ns.sim_run(duration=10)\n",
    "\n",
    "qubit, = qmem.peek(positions=2)\n",
    "\n",
    "ns.qubits.reduced_dm([qubit])"
   ]
  },
  {
   "cell_type": "markdown",
   "id": "2ae97296-7c08-4e65-b3e8-cc505d45b8dd",
   "metadata": {},
   "source": [
    "### Different noise model per memory position"
   ]
  },
  {
   "cell_type": "code",
   "execution_count": null,
   "id": "5384b394-6281-41b9-b5b4-1c3ac1a2b49d",
   "metadata": {},
   "outputs": [],
   "source": [
    "from netsquid.components import QuantumMemory\n",
    "from netsquid.components.models import DepolarNoiseModel\n",
    "\n",
    "qerror_model_mem_pos_0 = DepolarNoiseModel(depolar_rate=1e8)\n",
    "qerror_model_mem_pos_1 = DepolarNoiseModel(depolar_rate=1e7)\n",
    "\n",
    "qmem = QuantumMemory(\"Tutorial memory2\", \n",
    "                     num_positions=2,\n",
    "                     memory_noise_models=[qerror_model_mem_pos_0,\n",
    "                                          qerror_model_mem_pos_1])\n",
    "\n",
    "q1, q2 = ns.qubits.create_qubits(2)\n",
    "\n",
    "qmem.put([q1, q2], positions=[0, 1])\n",
    "\n",
    "ns.sim_run(duration=10)\n",
    "\n",
    "q1, q2 = qmem.peek(positions=[0, 1])\n",
    "\n",
    "print(\"q1 DM after 10ns in qmem:\")\n",
    "print(ns.qubits.reduced_dm([q1]))\n",
    "\n",
    "print(\"\\nq2 DM after 10ns in qmem:\")\n",
    "print(ns.qubits.reduced_dm([q2]))"
   ]
  },
  {
   "cell_type": "markdown",
   "id": "d2051260-ae20-4c18-8674-37794c98dfd6",
   "metadata": {},
   "source": [
    "## Quantum Processor"
   ]
  },
  {
   "cell_type": "code",
   "execution_count": null,
   "id": "f7c6b5df-ec57-4e43-bc15-3edf62132870",
   "metadata": {},
   "outputs": [],
   "source": [
    "# Depolarization rate = 1e8 Hz = 1/(10 ns)\n",
    "memory_qerror_model = DepolarNoiseModel(depolar_rate=1e8)\n",
    "# Depolarization probability = 10%\n",
    "gate_qerror_model = DepolarNoiseModel(0.1, time_independent=True)"
   ]
  },
  {
   "cell_type": "markdown",
   "id": "12e2406b-d782-4a93-8f1f-9a260bd2505f",
   "metadata": {},
   "source": [
    "### Physical instructions"
   ]
  },
  {
   "cell_type": "code",
   "execution_count": null,
   "id": "76717fd9-2607-4b3f-a032-a883136ce252",
   "metadata": {},
   "outputs": [],
   "source": [
    "from netsquid.components import PhysicalInstruction, INSTR_INIT, INSTR_H, INSTR_CNOT, INSTR_MEASURE\n",
    "\n",
    "# Qubit initialization and measurement take 3ns\n",
    "instr_init = PhysicalInstruction(INSTR_INIT,\n",
    "                                 duration=3)\n",
    "\n",
    "instr_meas = PhysicalInstruction(INSTR_MEASURE,\n",
    "                                 duration=3)\n",
    "\n",
    "# H gate takes 1ns, only available at mem_pos 1,2 and 3 (not available at 0), use error model of 10% depolarization probability \n",
    "instr_h = PhysicalInstruction(INSTR_H,\n",
    "                              duration=1,\n",
    "                              topology=[1,2,3],\n",
    "                              quantum_noise_model=gate_qerror_model)\n",
    "\n",
    "# CNOT take 2ns, only available when mem_pos 1 is control qubit and 2 or 3 are target qubit\n",
    "instr_cnot = PhysicalInstruction(INSTR_CNOT,\n",
    "                                 duration=2,\n",
    "                                 topology=[(1, 2), (1, 3)])"
   ]
  },
  {
   "cell_type": "markdown",
   "id": "2ae13d30-34a2-4374-8f88-e6ad0d7aeb02",
   "metadata": {},
   "source": [
    "### Creating a quantum processor"
   ]
  },
  {
   "cell_type": "code",
   "execution_count": null,
   "id": "7887d2bc-2b41-4516-b200-8e1163037e33",
   "metadata": {},
   "outputs": [],
   "source": [
    "from netsquid.components import QuantumProcessor\n",
    "\n",
    "quantum_processor = QuantumProcessor(\n",
    "    \"Demo quantumProcessor\",\n",
    "    num_positions=4,\n",
    "    mem_noise_models=memory_qerror_model,\n",
    "    phys_instructions=[instr_init, instr_meas, instr_h, instr_cnot]\n",
    "    )"
   ]
  },
  {
   "cell_type": "markdown",
   "id": "589b3ccc-7ac6-4742-a007-99dc56019d78",
   "metadata": {},
   "source": [
    "### Quantum programs"
   ]
  },
  {
   "cell_type": "code",
   "execution_count": null,
   "id": "d9b98a03-63d6-4c2a-aac2-b174b95cd950",
   "metadata": {},
   "outputs": [],
   "source": [
    "from netsquid.components import QuantumProgram\n",
    "\n",
    "create_program = QuantumProgram(num_qubits=2)\n",
    "q1, q2 = create_program.get_qubit_indices()\n",
    "\n",
    "create_program.apply(INSTR_INIT, q1)\n",
    "create_program.apply(INSTR_INIT, q2)\n",
    "create_program.apply(INSTR_H, q1)\n",
    "create_program.apply(INSTR_CNOT, [q1, q2])\n",
    "\n",
    "\n",
    "class MeasureProgram(QuantumProgram):\n",
    "    default_num_qubits = 2\n",
    "    \n",
    "    def program(self):\n",
    "        q1, q2 = self.get_qubit_indices(2)\n",
    "        # inplace=False will free the memory position after measurement\n",
    "        self.apply(INSTR_MEASURE, q1, output_key=\"m1\", inplace=False)\n",
    "        self.apply(INSTR_MEASURE, q2, output_key=\"m2\", inplace=False)\n",
    "        yield self.run()\n",
    "\n",
    "measure_program = MeasureProgram()\n"
   ]
  },
  {
   "cell_type": "markdown",
   "id": "57dc317c-8f3d-4e18-a665-684aee13bcbb",
   "metadata": {},
   "source": [
    "### Running a quantum program"
   ]
  },
  {
   "cell_type": "code",
   "execution_count": null,
   "id": "92b39ea3-9a85-4ec2-8b95-e2f0aeb59203",
   "metadata": {},
   "outputs": [],
   "source": [
    "ns.sim_reset()\n",
    "\n",
    "quantum_processor.execute_program(create_program, \n",
    "                                  qubit_mapping=[1,2])\n",
    "\n",
    "ns.sim_run()\n",
    "\n",
    "qubits = quantum_processor.peek(positions=[1,2])\n",
    "print(f\"{ns.sim_time()}ns Finished create program. \\nDM:\\n{ns.qubits.reduced_dm(qubits)}\")\n",
    "\n",
    "\n",
    "quantum_processor.execute_program(measure_program, \n",
    "                                  qubit_mapping=[1,2])\n",
    "\n",
    "ns.sim_run()\n",
    "\n",
    "m1 = measure_program.output[\"m1\"]\n",
    "m2 = measure_program.output[\"m2\"]\n",
    "\n",
    "print(f\"\\n{ns.sim_time()}ns Finished measure program with results: {m1}, {m2}\")\n"
   ]
  },
  {
   "cell_type": "markdown",
   "id": "f6243471-25b5-4e0d-9de7-a85bc5704421",
   "metadata": {},
   "source": [
    "Next: [Exercise 1](exercise1.ipynb)"
   ]
  }
 ],
 "metadata": {
  "kernelspec": {
   "display_name": "Python 3 (ipykernel)",
   "language": "python",
   "name": "python3"
  },
  "language_info": {
   "codemirror_mode": {
    "name": "ipython",
    "version": 3
   },
   "file_extension": ".py",
   "mimetype": "text/x-python",
   "name": "python",
   "nbconvert_exporter": "python",
   "pygments_lexer": "ipython3",
   "version": "3.10.12"
  }
 },
 "nbformat": 4,
 "nbformat_minor": 5
}
