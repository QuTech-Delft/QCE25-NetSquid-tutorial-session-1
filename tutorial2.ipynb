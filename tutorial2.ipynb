{
 "cells": [
  {
   "cell_type": "code",
   "execution_count": null,
   "id": "926a6f29-33b3-44f1-9e0a-6e4300dc1cf9",
   "metadata": {},
   "outputs": [],
   "source": [
    "import netsquid as ns\n",
    "# Set qstate formalism to use density matrices.\n",
    "ns.set_qstate_formalism(ns.QFormalism.DM)"
   ]
  },
  {
   "cell_type": "markdown",
   "id": "f76779dc-b596-40c0-8d75-c9ae8824787a",
   "metadata": {},
   "source": [
    "# Tutorial 2: Classical network simulation\n",
    "## Network components"
   ]
  },
  {
   "cell_type": "code",
   "execution_count": null,
   "id": "827414e5-3d27-44f5-a777-82f47f8aad01",
   "metadata": {},
   "outputs": [],
   "source": [
    "from netsquid.nodes import Node\n",
    "\n",
    "alice_node = Node(\"Alice\")\n",
    "bob_node   = Node(\"Bob\")"
   ]
  },
  {
   "cell_type": "code",
   "execution_count": null,
   "id": "fd466aa7-f8da-4bc4-a01b-3d4c39e5e751",
   "metadata": {},
   "outputs": [],
   "source": [
    "from netsquid.components import ClassicalChannel\n",
    "from netsquid.components.models import FixedDelayModel\n",
    "from netsquid.nodes import DirectConnection\n",
    "\n",
    "# Classical messages & Qubits take 10ns to transmit\n",
    "delay_model = FixedDelayModel(delay=10.)\n",
    "\n",
    "channel_a_to_b = ClassicalChannel(\"Channel Alice to Bob\",\n",
    "                                  models={\"delay_model\": delay_model}\n",
    "                                  )\n",
    "\n",
    "channel_b_to_a = ClassicalChannel(\"Channel Bob to Alice\",\n",
    "                                  models={\"delay_model\": delay_model}\n",
    "                                  )\n",
    "\n",
    "connection = DirectConnection(name=\"connection\",\n",
    "                              channel_AtoB=channel_a_to_b,\n",
    "                              channel_BtoA=channel_b_to_a)"
   ]
  },
  {
   "cell_type": "code",
   "execution_count": null,
   "id": "2711c945-d6b0-446f-bbc5-09d459a30f2f",
   "metadata": {},
   "outputs": [],
   "source": [
    "from netsquid.components import Port\n",
    "\n",
    "alice_port = Port(\"Alice_port\", component=alice_node)\n",
    "bob_port   = Port(\"Bob_port\",   component=bob_node)\n",
    "\n",
    "alice_node.connect_to(remote_node=bob_node, connection=connection,\n",
    "                     local_port_name=\"Alice_port\", remote_port_name=\"Bob_port\")"
   ]
  },
  {
   "cell_type": "markdown",
   "id": "724db395-7c61-464b-acfd-bba23f992551",
   "metadata": {},
   "source": [
    "## Component diagram\n",
    "![title](img/network_components_diagram.drawio.png)"
   ]
  },
  {
   "cell_type": "markdown",
   "id": "455062f4-baae-4deb-8474-717eaf67cd4b",
   "metadata": {},
   "source": [
    "# Protocols"
   ]
  },
  {
   "cell_type": "markdown",
   "id": "4ef44833-1d0c-4e22-8cdc-dbc1c9a134f0",
   "metadata": {},
   "source": [
    "### Create protocol classes"
   ]
  },
  {
   "cell_type": "code",
   "execution_count": null,
   "id": "a3ee4e97-0b00-4b12-951b-bb87a02e8fb6",
   "metadata": {},
   "outputs": [],
   "source": [
    "from netsquid.protocols import NodeProtocol\n",
    "\n",
    "class AliceProtocol(NodeProtocol):\n",
    "    def __init__(self, node: Node, message: str):\n",
    "        super().__init__(node)\n",
    "        self.message = message\n",
    "\n",
    "    \n",
    "    def run(self):\n",
    "        port = self.node.ports[\"Alice_port\"]\n",
    "        \n",
    "        port.tx_output(self.message)\n",
    "        print(f\"{ns.sim_time()} ns Alice send message: {self.message}\")\n",
    "\n",
    "\n",
    "class BobProtocol(NodeProtocol):\n",
    "    def run(self):\n",
    "        port = self.node.ports[\"Bob_port\"]\n",
    "\n",
    "        yield self.await_port_input(port)\n",
    "        \n",
    "        message = port.rx_input().items[0]\n",
    "        \n",
    "        print(f\"{ns.sim_time()} ns Bob receives message {message}\")"
   ]
  },
  {
   "cell_type": "markdown",
   "id": "ce7cc4c8-db8d-4b1f-ad2c-22b7dfb6f6be",
   "metadata": {},
   "source": [
    "## Timeline diagram\n",
    "![title](img/tutorial2_timeline.drawio.png)"
   ]
  },
  {
   "cell_type": "markdown",
   "id": "087801c3-52ad-4e17-ad0e-dccd315b4fdb",
   "metadata": {},
   "source": [
    "### Create protocol instances"
   ]
  },
  {
   "cell_type": "code",
   "execution_count": null,
   "id": "d094b05d-0e77-4b9b-a105-3c2072f0f61e",
   "metadata": {},
   "outputs": [],
   "source": [
    "message = \"Hello from Alice\"\n",
    "\n",
    "alice_protocol = AliceProtocol(node=alice_node, message=message)\n",
    "bob_protocol = BobProtocol(node=bob_node)"
   ]
  },
  {
   "cell_type": "markdown",
   "id": "0c4283a4-efdf-416c-a31b-a7202d03675f",
   "metadata": {},
   "source": [
    "# Run simulation"
   ]
  },
  {
   "cell_type": "code",
   "execution_count": null,
   "id": "69ef5dd8-5a21-430b-9bdb-258144fd5e0f",
   "metadata": {},
   "outputs": [],
   "source": [
    "# Start all protocols\n",
    "alice_protocol.start()\n",
    "bob_protocol.start()\n",
    "\n",
    "sim_stats = ns.sim_run()\n",
    "\n",
    "print(sim_stats)"
   ]
  },
  {
   "cell_type": "markdown",
   "id": "0377895a-38c3-4914-a868-3a7d65c12419",
   "metadata": {},
   "source": [
    "### Restart simulation"
   ]
  },
  {
   "cell_type": "code",
   "execution_count": null,
   "id": "c8db2aee-dd23-47d2-9590-f598942ef887",
   "metadata": {},
   "outputs": [],
   "source": [
    "alice_protocol.stop()\n",
    "bob_protocol.stop()\n",
    "\n",
    "# Clear scheduled events, entities and event handlers & Reset simulation time to 0\n",
    "ns.sim_reset()"
   ]
  },
  {
   "cell_type": "markdown",
   "id": "0651b076-b638-47ac-a31d-767b1994f99f",
   "metadata": {},
   "source": [
    "### Partial simulation run"
   ]
  },
  {
   "cell_type": "code",
   "execution_count": null,
   "id": "5abcfff9-4845-4027-9ba9-514352269ff2",
   "metadata": {},
   "outputs": [],
   "source": [
    "alice_protocol.start()\n",
    "bob_protocol.start()\n",
    "\n",
    "ns.sim_run(end_time=6)"
   ]
  },
  {
   "cell_type": "code",
   "execution_count": null,
   "id": "92264437-74b4-4dae-8f6a-5486531919a2",
   "metadata": {},
   "outputs": [],
   "source": [
    "# End time = 6 + 5 = 11\n",
    "ns.sim_run(duration=5)"
   ]
  },
  {
   "cell_type": "markdown",
   "id": "835ef70e-4eb2-4df7-9bb5-0701958fc10a",
   "metadata": {},
   "source": [
    "# Delay models"
   ]
  },
  {
   "cell_type": "code",
   "execution_count": null,
   "id": "34b514c7-3da1-4dca-a385-e235c428f857",
   "metadata": {},
   "outputs": [],
   "source": [
    "from netsquid.components.models import FixedDelayModel, GaussianDelayModel, FibreDelayModel\n",
    "from netsquid.components import ClassicalChannel\n",
    "\n",
    "# T = 10 ns\n",
    "fixed_delay_model = FixedDelayModel(delay=10.)\n",
    "\n",
    "# T = Normal(mean=20ns, std=4s)\n",
    "gaussian_delay_model = GaussianDelayModel(delay_mean=20, delay_std=4)\n",
    "\n",
    "# T = c * length \n",
    "fibre_delay_model = FibreDelayModel(c=200000) # c = 200000 km/s\n",
    "\n",
    "# length = 10 km\n",
    "length = 10\n",
    "\n",
    "channel_a_to_b = ClassicalChannel(\"Channel Alice to Bob\",\n",
    "                                  models={\"delay_model\": fibre_delay_model},\n",
    "                                  length=length\n",
    "                                  )\n"
   ]
  },
  {
   "cell_type": "markdown",
   "id": "c89022f1-e807-4dd4-991b-d46036df8b03",
   "metadata": {},
   "source": [
    "[Next tutorial](tutorial3.ipynb)"
   ]
  },
  {
   "cell_type": "code",
   "execution_count": null,
   "id": "f3e1319c-cae7-4207-83e8-f3726c2559e2",
   "metadata": {},
   "outputs": [],
   "source": [
    "15 min"
   ]
  }
 ],
 "metadata": {
  "kernelspec": {
   "display_name": "Python 3 (ipykernel)",
   "language": "python",
   "name": "python3"
  },
  "language_info": {
   "codemirror_mode": {
    "name": "ipython",
    "version": 3
   },
   "file_extension": ".py",
   "mimetype": "text/x-python",
   "name": "python",
   "nbconvert_exporter": "python",
   "pygments_lexer": "ipython3",
   "version": "3.10.12"
  }
 },
 "nbformat": 4,
 "nbformat_minor": 5
}
